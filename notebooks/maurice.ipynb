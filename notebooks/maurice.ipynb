{
 "cells": [
  {
   "cell_type": "code",
   "execution_count": 3,
   "metadata": {},
   "outputs": [],
   "source": [
    "import pandas as pd\n",
    "\n",
    "# Définition des chemins des fichiers\n",
    "file_2023 = \"/Users/maurice/Documents/jedha/jedha/lead/00_projet_lead/datasets_projet/caract-2023.csv\"\n",
    "file_2022 = \"/Users/maurice/Documents/jedha/jedha/lead/00_projet_lead/datasets_projet/carcteristiques-2022.csv\"\n",
    "\n",
    "# Charger les fichiers avec le bon séparateur\n",
    "df_2023 = pd.read_csv(file_2023, sep=\";\", dtype=str)\n",
    "df_2022 = pd.read_csv(file_2022, sep=\";\", dtype=str)\n",
    "\n",
    "# Renommer la colonne 'Accident_Id' en 'Num_Acc' dans le fichier 2022\n",
    "df_2022.rename(columns={\"Accident_Id\": \"Num_Acc\"}, inplace=True)\n",
    "\n",
    "# Vérifier si les colonnes sont identiques avant concaténation\n",
    "if list(df_2023.columns) == list(df_2022.columns):\n",
    "    # Concaténer les deux DataFrames\n",
    "    df_2022_2023 = pd.concat([df_2023, df_2022], ignore_index=True)\n",
    "    \n",
    "    # Sauvegarder le DataFrame final en CSV si besoin\n",
    "    df_2022_2023.to_csv(\"/Users/maurice/Documents/jedha/jedha/lead/00_projet_lead/datasets_projet/concatene_2022_2023.csv\", index=False, sep=\";\")\n",
    "    \n",
    "    print\n"
   ]
  },
  {
   "cell_type": "code",
   "execution_count": null,
   "metadata": {},
   "outputs": [
    {
     "name": "stdout",
     "output_type": "stream",
     "text": [
      "  jour mois    an dep    com  nombre_d_accidents\n",
      "0    1   01  2022  77  77231                   1\n",
      "1    1   01  2022  77  77437                   1\n",
      "2    1   01  2023  77  77182                   1\n",
      "3    1   01  2023  77  77237                   1\n",
      "4    1   01  2023  77  77384                   1\n"
     ]
    }
   ],
   "source": [
    "import pandas as pd\n",
    "\n",
    "# Charger le fichier concaténé\n",
    "file_path = \"/Users/maurice/Documents/jedha/jedha/lead/00_projet_lead/datasets_projet/concatene_2022_2023.csv\"\n",
    "df = pd.read_csv(file_path, sep=\";\", dtype=str)\n",
    "\n",
    "# Filtrer les lignes où dep == 77\n",
    "df_filtered = df[df[\"dep\"] == \"77\"]\n",
    "\n",
    "# Compter le nombre d'accidents par commune et par jour\n",
    "df_grouped = df_filtered.groupby([\"jour\", \"mois\", \"an\", \"dep\", \"com\"]).size().reset_index(name=\"nombre_d_accidents\")\n"
   ]
  },
  {
   "cell_type": "code",
   "execution_count": 5,
   "metadata": {},
   "outputs": [
    {
     "data": {
      "application/vnd.microsoft.datawrangler.viewer.v0+json": {
       "columns": [
        {
         "name": "index",
         "rawType": "int64",
         "type": "integer"
        },
        {
         "name": "jour",
         "rawType": "object",
         "type": "string"
        },
        {
         "name": "mois",
         "rawType": "object",
         "type": "string"
        },
        {
         "name": "an",
         "rawType": "object",
         "type": "string"
        },
        {
         "name": "dep",
         "rawType": "object",
         "type": "string"
        },
        {
         "name": "com",
         "rawType": "object",
         "type": "string"
        },
        {
         "name": "nombre_d_accidents",
         "rawType": "int64",
         "type": "integer"
        }
       ],
       "conversionMethod": "pd.DataFrame",
       "ref": "6ce9d0e8-87d6-4961-b258-770eb4d83513",
       "rows": [
        [
         "0",
         "1",
         "01",
         "2022",
         "77",
         "77231",
         "1"
        ],
        [
         "1",
         "1",
         "01",
         "2022",
         "77",
         "77437",
         "1"
        ],
        [
         "2",
         "1",
         "01",
         "2023",
         "77",
         "77182",
         "1"
        ],
        [
         "3",
         "1",
         "01",
         "2023",
         "77",
         "77237",
         "1"
        ],
        [
         "4",
         "1",
         "01",
         "2023",
         "77",
         "77384",
         "1"
        ],
        [
         "5",
         "1",
         "02",
         "2022",
         "77",
         "77186",
         "1"
        ],
        [
         "6",
         "1",
         "02",
         "2022",
         "77",
         "77243",
         "2"
        ],
        [
         "7",
         "1",
         "03",
         "2022",
         "77",
         "77053",
         "1"
        ],
        [
         "8",
         "1",
         "03",
         "2023",
         "77",
         "77258",
         "1"
        ],
        [
         "9",
         "1",
         "04",
         "2022",
         "77",
         "77016",
         "1"
        ],
        [
         "10",
         "1",
         "04",
         "2022",
         "77",
         "77019",
         "1"
        ],
        [
         "11",
         "1",
         "04",
         "2023",
         "77",
         "77186",
         "1"
        ],
        [
         "12",
         "1",
         "04",
         "2023",
         "77",
         "77400",
         "1"
        ],
        [
         "13",
         "1",
         "05",
         "2022",
         "77",
         "77109",
         "1"
        ],
        [
         "14",
         "1",
         "05",
         "2022",
         "77",
         "77131",
         "1"
        ],
        [
         "15",
         "1",
         "05",
         "2022",
         "77",
         "77199",
         "1"
        ],
        [
         "16",
         "1",
         "05",
         "2022",
         "77",
         "77370",
         "1"
        ],
        [
         "17",
         "1",
         "05",
         "2023",
         "77",
         "77251",
         "1"
        ],
        [
         "18",
         "1",
         "05",
         "2023",
         "77",
         "77373",
         "1"
        ],
        [
         "19",
         "1",
         "06",
         "2022",
         "77",
         "77083",
         "1"
        ],
        [
         "20",
         "1",
         "06",
         "2022",
         "77",
         "77186",
         "1"
        ],
        [
         "21",
         "1",
         "06",
         "2022",
         "77",
         "77243",
         "1"
        ],
        [
         "22",
         "1",
         "06",
         "2023",
         "77",
         "77078",
         "1"
        ],
        [
         "23",
         "1",
         "06",
         "2023",
         "77",
         "77129",
         "1"
        ],
        [
         "24",
         "1",
         "06",
         "2023",
         "77",
         "77175",
         "1"
        ],
        [
         "25",
         "1",
         "06",
         "2023",
         "77",
         "77209",
         "1"
        ],
        [
         "26",
         "1",
         "06",
         "2023",
         "77",
         "77268",
         "1"
        ],
        [
         "27",
         "1",
         "06",
         "2023",
         "77",
         "77440",
         "1"
        ],
        [
         "28",
         "1",
         "06",
         "2023",
         "77",
         "77510",
         "1"
        ],
        [
         "29",
         "1",
         "07",
         "2022",
         "77",
         "77186",
         "1"
        ],
        [
         "30",
         "1",
         "07",
         "2022",
         "77",
         "77237",
         "1"
        ],
        [
         "31",
         "1",
         "07",
         "2022",
         "77",
         "77239",
         "1"
        ],
        [
         "32",
         "1",
         "07",
         "2023",
         "77",
         "77124",
         "1"
        ],
        [
         "33",
         "1",
         "07",
         "2023",
         "77",
         "77344",
         "1"
        ],
        [
         "34",
         "1",
         "08",
         "2022",
         "77",
         "77176",
         "1"
        ],
        [
         "35",
         "1",
         "08",
         "2022",
         "77",
         "77295",
         "1"
        ],
        [
         "36",
         "1",
         "08",
         "2023",
         "77",
         "77296",
         "1"
        ],
        [
         "37",
         "1",
         "09",
         "2023",
         "77",
         "77350",
         "1"
        ],
        [
         "38",
         "1",
         "09",
         "2023",
         "77",
         "77374",
         "1"
        ],
        [
         "39",
         "1",
         "09",
         "2023",
         "77",
         "77388",
         "1"
        ],
        [
         "40",
         "1",
         "10",
         "2022",
         "77",
         "77132",
         "1"
        ],
        [
         "41",
         "1",
         "10",
         "2022",
         "77",
         "77146",
         "1"
        ],
        [
         "42",
         "1",
         "10",
         "2022",
         "77",
         "77186",
         "1"
        ],
        [
         "43",
         "1",
         "10",
         "2022",
         "77",
         "77243",
         "1"
        ],
        [
         "44",
         "1",
         "10",
         "2022",
         "77",
         "77249",
         "1"
        ],
        [
         "45",
         "1",
         "10",
         "2022",
         "77",
         "77284",
         "1"
        ],
        [
         "46",
         "1",
         "10",
         "2022",
         "77",
         "77449",
         "1"
        ],
        [
         "47",
         "1",
         "10",
         "2023",
         "77",
         "77111",
         "1"
        ],
        [
         "48",
         "1",
         "10",
         "2023",
         "77",
         "77508",
         "1"
        ],
        [
         "49",
         "1",
         "10",
         "2023",
         "77",
         "77514",
         "2"
        ]
       ],
       "shape": {
        "columns": 6,
        "rows": 1702
       }
      },
      "text/html": [
       "<div>\n",
       "<style scoped>\n",
       "    .dataframe tbody tr th:only-of-type {\n",
       "        vertical-align: middle;\n",
       "    }\n",
       "\n",
       "    .dataframe tbody tr th {\n",
       "        vertical-align: top;\n",
       "    }\n",
       "\n",
       "    .dataframe thead th {\n",
       "        text-align: right;\n",
       "    }\n",
       "</style>\n",
       "<table border=\"1\" class=\"dataframe\">\n",
       "  <thead>\n",
       "    <tr style=\"text-align: right;\">\n",
       "      <th></th>\n",
       "      <th>jour</th>\n",
       "      <th>mois</th>\n",
       "      <th>an</th>\n",
       "      <th>dep</th>\n",
       "      <th>com</th>\n",
       "      <th>nombre_d_accidents</th>\n",
       "    </tr>\n",
       "  </thead>\n",
       "  <tbody>\n",
       "    <tr>\n",
       "      <th>0</th>\n",
       "      <td>1</td>\n",
       "      <td>01</td>\n",
       "      <td>2022</td>\n",
       "      <td>77</td>\n",
       "      <td>77231</td>\n",
       "      <td>1</td>\n",
       "    </tr>\n",
       "    <tr>\n",
       "      <th>1</th>\n",
       "      <td>1</td>\n",
       "      <td>01</td>\n",
       "      <td>2022</td>\n",
       "      <td>77</td>\n",
       "      <td>77437</td>\n",
       "      <td>1</td>\n",
       "    </tr>\n",
       "    <tr>\n",
       "      <th>2</th>\n",
       "      <td>1</td>\n",
       "      <td>01</td>\n",
       "      <td>2023</td>\n",
       "      <td>77</td>\n",
       "      <td>77182</td>\n",
       "      <td>1</td>\n",
       "    </tr>\n",
       "    <tr>\n",
       "      <th>3</th>\n",
       "      <td>1</td>\n",
       "      <td>01</td>\n",
       "      <td>2023</td>\n",
       "      <td>77</td>\n",
       "      <td>77237</td>\n",
       "      <td>1</td>\n",
       "    </tr>\n",
       "    <tr>\n",
       "      <th>4</th>\n",
       "      <td>1</td>\n",
       "      <td>01</td>\n",
       "      <td>2023</td>\n",
       "      <td>77</td>\n",
       "      <td>77384</td>\n",
       "      <td>1</td>\n",
       "    </tr>\n",
       "    <tr>\n",
       "      <th>...</th>\n",
       "      <td>...</td>\n",
       "      <td>...</td>\n",
       "      <td>...</td>\n",
       "      <td>...</td>\n",
       "      <td>...</td>\n",
       "      <td>...</td>\n",
       "    </tr>\n",
       "    <tr>\n",
       "      <th>1697</th>\n",
       "      <td>9</td>\n",
       "      <td>12</td>\n",
       "      <td>2022</td>\n",
       "      <td>77</td>\n",
       "      <td>77142</td>\n",
       "      <td>1</td>\n",
       "    </tr>\n",
       "    <tr>\n",
       "      <th>1698</th>\n",
       "      <td>9</td>\n",
       "      <td>12</td>\n",
       "      <td>2023</td>\n",
       "      <td>77</td>\n",
       "      <td>77122</td>\n",
       "      <td>1</td>\n",
       "    </tr>\n",
       "    <tr>\n",
       "      <th>1699</th>\n",
       "      <td>9</td>\n",
       "      <td>12</td>\n",
       "      <td>2023</td>\n",
       "      <td>77</td>\n",
       "      <td>77209</td>\n",
       "      <td>1</td>\n",
       "    </tr>\n",
       "    <tr>\n",
       "      <th>1700</th>\n",
       "      <td>9</td>\n",
       "      <td>12</td>\n",
       "      <td>2023</td>\n",
       "      <td>77</td>\n",
       "      <td>77251</td>\n",
       "      <td>1</td>\n",
       "    </tr>\n",
       "    <tr>\n",
       "      <th>1701</th>\n",
       "      <td>9</td>\n",
       "      <td>12</td>\n",
       "      <td>2023</td>\n",
       "      <td>77</td>\n",
       "      <td>77372</td>\n",
       "      <td>1</td>\n",
       "    </tr>\n",
       "  </tbody>\n",
       "</table>\n",
       "<p>1702 rows × 6 columns</p>\n",
       "</div>"
      ],
      "text/plain": [
       "     jour mois    an dep    com  nombre_d_accidents\n",
       "0       1   01  2022  77  77231                   1\n",
       "1       1   01  2022  77  77437                   1\n",
       "2       1   01  2023  77  77182                   1\n",
       "3       1   01  2023  77  77237                   1\n",
       "4       1   01  2023  77  77384                   1\n",
       "...   ...  ...   ...  ..    ...                 ...\n",
       "1697    9   12  2022  77  77142                   1\n",
       "1698    9   12  2023  77  77122                   1\n",
       "1699    9   12  2023  77  77209                   1\n",
       "1700    9   12  2023  77  77251                   1\n",
       "1701    9   12  2023  77  77372                   1\n",
       "\n",
       "[1702 rows x 6 columns]"
      ]
     },
     "execution_count": 5,
     "metadata": {},
     "output_type": "execute_result"
    }
   ],
   "source": [
    "df_grouped"
   ]
  },
  {
   "cell_type": "code",
   "execution_count": 9,
   "metadata": {},
   "outputs": [],
   "source": [
    "df_grouped.to_csv(\"/Users/maurice/Documents/jedha/jedha/lead/00_projet_lead/datasets_projet/grouped.csv\", index=False, sep=\";\")"
   ]
  },
  {
   "cell_type": "code",
   "execution_count": 8,
   "metadata": {},
   "outputs": [
    {
     "name": "stdout",
     "output_type": "stream",
     "text": [
      "✅ Fichier enregistré avec succès : /Users/maurice/Documents/jedha/jedha/lead/00_projet_lead/datasets_projet/communes_77.csv\n"
     ]
    }
   ],
   "source": [
    "import requests\n",
    "import pandas as pd\n",
    "import os\n",
    "\n",
    "# URL de l'API gouvernementale\n",
    "url = \"https://geo.api.gouv.fr/departements/77/communes\"\n",
    "\n",
    "# Paramètres de la requête\n",
    "params = {\n",
    "    \"fields\": \"nom,codesPostaux\",\n",
    "    \"format\": \"json\"\n",
    "}\n",
    "\n",
    "try:\n",
    "    # Requête GET vers l'API\n",
    "    response = requests.get(url, params=params)\n",
    "    response.raise_for_status()  # Vérifie si la requête a réussi\n",
    "\n",
    "    # Récupération des données JSON\n",
    "    communes = response.json()\n",
    "\n",
    "    # Extraction des noms de communes et codes postaux\n",
    "    data = []\n",
    "    for commune in communes:\n",
    "        nom_commune = commune[\"nom\"]\n",
    "        codes_postaux = \", \".join(commune[\"codesPostaux\"])\n",
    "        data.append([nom_commune, codes_postaux])\n",
    "\n",
    "    # Création du DataFrame\n",
    "    df_communes = pd.DataFrame(data, columns=[\"Commune\", \"Codes Postaux\"])\n",
    "\n",
    "    # Définition du chemin d'enregistrement\n",
    "    save_dir = \"/Users/maurice/Documents/jedha/jedha/lead/00_projet_lead/datasets_projet\"\n",
    "    save_path = os.path.join(save_dir, \"communes_77.csv\")\n",
    "\n",
    "    # Vérifier si le dossier existe, sinon le créer\n",
    "    os.makedirs(save_dir, exist_ok=True)\n",
    "\n",
    "    # Enregistrement du fichier CSV\n",
    "    df_communes.to_csv(save_path, index=False, encoding=\"utf-8\")\n",
    "\n",
    "    print(f\"✅ Fichier enregistré avec succès : {save_path}\")\n",
    "\n",
    "except requests.exceptions.RequestException as e:\n",
    "    print(f\"❌ Erreur lors de la requête API : {e}\")\n",
    "except Exception as e:\n",
    "    print(f\"❌ Une erreur est survenue : {e}\")\n"
   ]
  },
  {
   "cell_type": "code",
   "execution_count": null,
   "metadata": {},
   "outputs": [
    {
     "name": "stdout",
     "output_type": "stream",
     "text": [
      "✅ Fichier généré avec succès : /Users/maurice/Documents/jedha/jedha/lead/00_projet_lead/datasets_projet/accidents_completes.csv\n"
     ]
    }
   ],
   "source": [
    "import pandas as pd\n",
    "from itertools import product\n",
    "\n",
    "# 📂 Définition des chemins des fichiers\n",
    "path_communes = \"/Users/maurice/Documents/jedha/jedha/lead/00_projet_lead/datasets_projet/communes_77.csv\"\n",
    "path_accidents = \"/Users/maurice/Documents/jedha/jedha/lead/00_projet_lead/datasets_projet/grouped.csv\"\n",
    "path_feries = \"/Users/maurice/Documents/jedha/jedha/lead/00_projet_lead/datasets_projet/jours_feries_metropole.csv\"\n",
    "path_vacances = \"/Users/maurice/Documents/jedha/jedha/lead/00_projet_lead/datasets_projet/vacances_scolaires_2017_2025.csv\"\n",
    "path_output = \"/Users/maurice/Documents/jedha/jedha/lead/00_projet_lead/datasets_projet/accidents_completes.csv\"\n",
    "\n",
    "# 🏙 Charger la liste des communes\n",
    "df_communes = pd.read_csv(path_communes)\n",
    "df_communes.rename(columns={\"Codes Postaux\": \"com\"}, inplace=True)\n",
    "\n",
    "# 🚗 Charger les accidents\n",
    "df_accidents = pd.read_csv(path_accidents, sep=\";\")\n",
    "\n",
    "# 📅 Charger les jours fériés\n",
    "df_feries = pd.read_csv(path_feries, sep=\",\")\n",
    "df_feries[\"Date\"] = pd.to_datetime(df_feries[\"Date\"], format=\"%d/%m/%Y\")\n",
    "\n",
    "# 🏫 Charger les vacances scolaires\n",
    "df_vacances = pd.read_csv(path_vacances, sep=\",\")\n",
    "df_vacances[\"debut\"] = pd.to_datetime(df_vacances[\"debut\"], format=\"%d/%m/%Y\")\n",
    "df_vacances[\"fin\"] = pd.to_datetime(df_vacances[\"fin\"], format=\"%d/%m/%Y\")\n",
    "\n",
    "# 📆 Générer toutes les dates de 2022 à 2023\n",
    "dates = pd.date_range(start=\"2022-01-01\", end=\"2023-12-31\")\n",
    "df_dates = pd.DataFrame({\"date\": dates})\n",
    "df_dates[\"jour\"] = df_dates[\"date\"].dt.day\n",
    "df_dates[\"mois\"] = df_dates[\"date\"].dt.month.astype(str).str.zfill(2)  \n",
    "df_dates[\"an\"] = df_dates[\"date\"].dt.year\n",
    "\n",
    "# 📌 Marquer les jours fériés\n",
    "df_dates[\"jour_ferie\"] = df_dates[\"date\"].isin(df_feries[\"Date\"])\n",
    "\n",
    "# 🏫 Marquer les jours de vacances pour chaque zone\n",
    "for zone in [\"Zone A\", \"Zone B\", \"Zone C\"]:\n",
    "    df_dates[f\"vacances_{zone.replace(' ', '_')}\"] = df_dates[\"date\"].apply(\n",
    "        lambda d: any((d >= row[\"debut\"]) and (d <= row[\"fin\"]) and (zone in row[\"zone\"]) for _, row in df_vacances.iterrows())\n",
    "    )\n",
    "\n",
    "df_dates.drop(columns=[\"date\"], inplace=True)\n",
    "\n",
    "# 🏘 Créer toutes les combinaisons entre dates et communes\n",
    "df_complet = pd.DataFrame(product(df_dates.itertuples(index=False), df_communes[\"com\"]),\n",
    "                          columns=[\"date_info\", \"com\"])\n",
    "\n",
    "# 🧩 Séparer les valeurs de date_info en colonnes\n",
    "df_complet[[\"jour\", \"mois\", \"an\", \"jour_ferie\", \"vacances_Zone_A\", \"vacances_Zone_B\", \"vacances_Zone_C\"]] = pd.DataFrame(df_complet[\"date_info\"].tolist(), index=df_complet.index)\n",
    "df_complet.drop(columns=[\"date_info\"], inplace=True)\n",
    "\n",
    "# 🏢 Ajouter le département 77\n",
    "df_complet[\"dep\"] = 77\n",
    "\n",
    "# 📊 Assurer que les types sont bien les mêmes\n",
    "df_accidents[\"com\"] = df_accidents[\"com\"].astype(str)\n",
    "df_complet[\"com\"] = df_complet[\"com\"].astype(str)\n",
    "\n",
    "df_accidents[\"mois\"] = df_accidents[\"mois\"].astype(str).str.zfill(2)  \n",
    "df_complet[\"mois\"] = df_complet[\"mois\"].astype(str).str.zfill(2)  \n",
    "\n",
    "# 🔗 Joindre avec les accidents pour récupérer les données existantes\n",
    "df_final = df_complet.merge(df_accidents, on=[\"jour\", \"mois\", \"an\", \"dep\", \"com\"], how=\"left\")\n",
    "\n",
    "# 🔄 Remplacer les NaN par 0 pour les jours sans accident\n",
    "df_final[\"nombre_d_accidents\"] = df_final[\"nombre_d_accidents\"].fillna(0).astype(int)\n",
    "\n",
    "# 💾 Sauvegarder le fichier final\n",
    "df_final.to_csv(path_output, index=False)\n",
    "\n",
    "print(f\"✅ Fichier généré avec succès : {path_output}\")\n"
   ]
  },
  {
   "cell_type": "code",
   "execution_count": 21,
   "metadata": {},
   "outputs": [
    {
     "name": "stdout",
     "output_type": "stream",
     "text": [
      "✅ Fichier météo agrégé enregistré à : /Users/maurice/Documents/jedha/jedha/lead/00_projet_lead/datasets_projet/meteo_aggree_par_jour.csv\n"
     ]
    }
   ],
   "source": [
    "import pandas as pd\n",
    "\n",
    "# 📌 Chemin du fichier météo\n",
    "path_meteo = \"/Users/maurice/Documents/jedha/jedha/lead/00_projet_lead/git/jedha-lead/data/meteo_celsius_Quiers_2022_2023.csv\"\n",
    "\n",
    "# 📥 Charger les données météo\n",
    "df_meteo = pd.read_csv(path_meteo)\n",
    "\n",
    "# 🛠️ Nettoyer la colonne dt_iso pour enlever le décalage horaire et \"UTC\"\n",
    "df_meteo[\"dt_iso\"] = df_meteo[\"dt_iso\"].str.extract(r\"(\\d{4}-\\d{2}-\\d{2} \\d{2}:\\d{2}:\\d{2})\")\n",
    "\n",
    "# 🗓️ Convertir en format date (on garde seulement YYYY-MM-DD)\n",
    "df_meteo[\"date\"] = pd.to_datetime(df_meteo[\"dt_iso\"]).dt.date\n",
    "\n",
    "# 📊 Agréger les données par jour\n",
    "df_meteo_daily = df_meteo.groupby(\"date\").agg({\n",
    "    \"temp\": \"mean\",\n",
    "    \"feels_like\": \"mean\",\n",
    "    \"temp_min\": \"min\",\n",
    "    \"temp_max\": \"max\",\n",
    "    \"pressure\": \"mean\",\n",
    "    \"humidity\": \"mean\",\n",
    "    \"wind_speed\": \"mean\",\n",
    "    \"clouds_all\": \"mean\"\n",
    "}).reset_index()\n",
    "\n",
    "# 💾 Sauvegarde avec séparation par virgule et encodage UTF-8\n",
    "output_path = \"/Users/maurice/Documents/jedha/jedha/lead/00_projet_lead/datasets_projet/meteo_aggree_par_jour.csv\"\n",
    "df_meteo_daily.to_csv(output_path, index=False, sep=\",\", encoding=\"utf-8\")\n",
    "\n",
    "print(f\"✅ Fichier météo agrégé enregistré à : {output_path}\")\n"
   ]
  },
  {
   "cell_type": "code",
   "execution_count": 23,
   "metadata": {},
   "outputs": [
    {
     "name": "stdout",
     "output_type": "stream",
     "text": [
      "✅ Fichier enregistré avec succès à : /Users/maurice/Documents/jedha/jedha/lead/00_projet_lead/datasets_projet/accidents_77_final.csv\n"
     ]
    }
   ],
   "source": [
    "import pandas as pd\n",
    "\n",
    "# 📌 Chemins des fichiers\n",
    "path_accidents = \"/Users/maurice/Documents/jedha/jedha/lead/00_projet_lead/datasets_projet/accidents_completes.csv\"\n",
    "path_meteo = \"/Users/maurice/Documents/jedha/jedha/lead/00_projet_lead/datasets_projet/meteo_aggree_par_jour.csv\"\n",
    "save_path = \"/Users/maurice/Documents/jedha/jedha/lead/00_projet_lead/datasets_projet/accidents_77_final.csv\"\n",
    "\n",
    "# 📥 Charger les données d'accidents\n",
    "df_accidents = pd.read_csv(path_accidents, sep=\";\")\n",
    "\n",
    "# 🛠 Vérifier la présence des colonnes essentielles\n",
    "assert all(col in df_accidents.columns for col in [\"jour\", \"mois\", \"an\"]), \"Colonnes 'jour', 'mois', 'an' manquantes !\"\n",
    "\n",
    "# 🔢 Convertir \"jour\", \"mois\", \"an\" en entiers\n",
    "df_accidents[\"jour\"] = df_accidents[\"jour\"].astype(int)\n",
    "df_accidents[\"mois\"] = df_accidents[\"mois\"].astype(int)\n",
    "df_accidents[\"an\"] = df_accidents[\"an\"].astype(int)\n",
    "\n",
    "# 🗓️ Créer une colonne \"date\" au format YYYY-MM-DD\n",
    "df_accidents[\"date\"] = pd.to_datetime(df_accidents[[\"an\", \"mois\", \"jour\"]].astype(str).agg('-'.join, axis=1), format='%Y-%m-%d')\n",
    "\n",
    "# 📥 Charger les données météo\n",
    "df_meteo = pd.read_csv(path_meteo)\n",
    "\n",
    "# 🗓️ Convertir \"date\" en datetime\n",
    "df_meteo[\"date\"] = pd.to_datetime(df_meteo[\"date\"])\n",
    "\n",
    "# 🎯 Ne garder que les colonnes météo nécessaires\n",
    "cols_meteo = [\"date\", \"temp\", \"feels_like\", \"temp_min\", \"temp_max\", \"pressure\", \"humidity\", \"wind_speed\", \"clouds_all\"]\n",
    "df_meteo = df_meteo[cols_meteo]\n",
    "\n",
    "# 📊 Fusionner les datasets sur la colonne \"date\"\n",
    "df_final = df_accidents.merge(df_meteo, on=\"date\", how=\"left\")\n",
    "\n",
    "# 💾 Enregistrer en UTF-8 avec le bon séparateur\n",
    "df_final.to_csv(save_path, index=False, sep=\",\", encoding=\"utf-8\")\n",
    "\n",
    "print(f\"✅ Fichier enregistré avec succès à : {save_path}\")\n"
   ]
  },
  {
   "cell_type": "code",
   "execution_count": 3,
   "metadata": {},
   "outputs": [],
   "source": [
    "import pandas as pd\n",
    "df_final_77 = pd.read_csv('/Users/maurice/Documents/jedha/jedha/lead/00_projet_lead/datasets_projet/accidents_77_final.csv')"
   ]
  },
  {
   "cell_type": "code",
   "execution_count": 1,
   "metadata": {},
   "outputs": [
    {
     "ename": "NameError",
     "evalue": "name 'df_final_77' is not defined",
     "output_type": "error",
     "traceback": [
      "\u001b[0;31m---------------------------------------------------------------------------\u001b[0m",
      "\u001b[0;31mNameError\u001b[0m                                 Traceback (most recent call last)",
      "Cell \u001b[0;32mIn[1], line 1\u001b[0m\n\u001b[0;32m----> 1\u001b[0m df_final_77\n",
      "\u001b[0;31mNameError\u001b[0m: name 'df_final_77' is not defined"
     ]
    }
   ],
   "source": [
    "df_final_77"
   ]
  },
  {
   "cell_type": "code",
   "execution_count": null,
   "metadata": {},
   "outputs": [],
   "source": []
  }
 ],
 "metadata": {
  "kernelspec": {
   "display_name": "base",
   "language": "python",
   "name": "python3"
  },
  "language_info": {
   "codemirror_mode": {
    "name": "ipython",
    "version": 3
   },
   "file_extension": ".py",
   "mimetype": "text/x-python",
   "name": "python",
   "nbconvert_exporter": "python",
   "pygments_lexer": "ipython3",
   "version": "3.12.2"
  }
 },
 "nbformat": 4,
 "nbformat_minor": 2
}
